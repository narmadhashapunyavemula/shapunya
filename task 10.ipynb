{
  "nbformat": 4,
  "nbformat_minor": 0,
  "metadata": {
    "colab": {
      "name": "Untitled0.ipynb",
      "provenance": []
    },
    "kernelspec": {
      "name": "python3",
      "display_name": "Python 3"
    }
  },
  "cells": [
    {
      "cell_type": "code",
      "metadata": {
        "id": "KYAuyq5vMR7x"
      },
      "source": [
        ""
      ],
      "execution_count": null,
      "outputs": []
    },
    {
      "cell_type": "markdown",
      "metadata": {
        "id": "DEgqDL8YMUok"
      },
      "source": [
        ""
      ]
    },
    {
      "cell_type": "markdown",
      "metadata": {
        "id": "9pxDNK0iM4EC"
      },
      "source": [
        "The continue statement is used to skip the rest of the code inside a loop for the current iteration only.Loop does not terminate but continues on with the next iteration."
      ]
    },
    {
      "cell_type": "code",
      "metadata": {
        "colab": {
          "base_uri": "https://localhost:8080/"
        },
        "id": "urUPrjYkNyt0",
        "outputId": "b1559075-9d24-42ce-b179-a3782c517a9d"
      },
      "source": [
        "for i in range(1,10):\r\n",
        "  if i == 7:\r\n",
        "    continue\r\n",
        "  else:\r\n",
        "    print(i)"
      ],
      "execution_count": null,
      "outputs": [
        {
          "output_type": "stream",
          "text": [
            "1\n",
            "2\n",
            "3\n",
            "4\n",
            "5\n",
            "6\n",
            "8\n",
            "9\n"
          ],
          "name": "stdout"
        }
      ]
    },
    {
      "cell_type": "code",
      "metadata": {
        "colab": {
          "base_uri": "https://localhost:8080/"
        },
        "id": "M4C0TomoOkwc",
        "outputId": "eefa7e7a-2566-4ed3-a781-e46ebf9386ff"
      },
      "source": [
        "for val in \"blue\":\r\n",
        "  if val == \"e\":\r\n",
        "    continue\r\n",
        "  print(val)"
      ],
      "execution_count": null,
      "outputs": [
        {
          "output_type": "stream",
          "text": [
            "b\n",
            "l\n",
            "u\n"
          ],
          "name": "stdout"
        }
      ]
    },
    {
      "cell_type": "markdown",
      "metadata": {
        "id": "I78Hg06SPab_"
      },
      "source": [
        "The pass statement is a null statement.But the difference between the comment and pass is that the comment is ignored by the interpreter whereas pass is not ignored.It is generally used as a placeholder that is when user doesn't want to code.Sometimes,pass is used when the user doesn't want any code to execute.so user simply places pass there as empty code is not aowed in loops, functions,class.So using pass statement user avoids this error."
      ]
    },
    {
      "cell_type": "code",
      "metadata": {
        "id": "KJFGUpUuSxcp"
      },
      "source": [
        "n = 10\r\n",
        "for i in range(n):\r\n",
        "  pass"
      ],
      "execution_count": null,
      "outputs": []
    },
    {
      "cell_type": "code",
      "metadata": {
        "id": "pkoI1CECUG6G"
      },
      "source": [
        "a = 10\r\n",
        "b = 20\r\n",
        "if(a<b):\r\n",
        "  pass\r\n",
        "else:\r\n",
        "  print(\"b<a\")"
      ],
      "execution_count": null,
      "outputs": []
    },
    {
      "cell_type": "code",
      "metadata": {
        "colab": {
          "base_uri": "https://localhost:8080/"
        },
        "id": "ihh_L-b-UdEr",
        "outputId": "f6939097-8a89-4b72-9252-be2a8b723150"
      },
      "source": [
        "list1 = ['a','b','c','d']\r\n",
        "for i in list1:\r\n",
        "  if(i == 'b'):\r\n",
        "    pass\r\n",
        "  else:\r\n",
        "    print(i)"
      ],
      "execution_count": null,
      "outputs": [
        {
          "output_type": "stream",
          "text": [
            "a\n",
            "c\n",
            "d\n"
          ],
          "name": "stdout"
        }
      ]
    },
    {
      "cell_type": "code",
      "metadata": {
        "id": "fLXaPQm5U6zm"
      },
      "source": [
        ""
      ],
      "execution_count": null,
      "outputs": []
    },
    {
      "cell_type": "markdown",
      "metadata": {
        "id": "1MpnNIGN0zwN"
      },
      "source": [
        "printing numbers 10 to 1 using while loop\r\n"
      ]
    },
    {
      "cell_type": "code",
      "metadata": {
        "colab": {
          "base_uri": "https://localhost:8080/"
        },
        "id": "97Bw8qhE05vX",
        "outputId": "e9ec59f9-b7e8-4145-9336-9fe26cc27bd3"
      },
      "source": [
        "count = 10\r\n",
        "while(count>=1):\r\n",
        "  print(count)\r\n",
        "  count=count-1"
      ],
      "execution_count": 1,
      "outputs": [
        {
          "output_type": "stream",
          "text": [
            "10\n",
            "9\n",
            "8\n",
            "7\n",
            "6\n",
            "5\n",
            "4\n",
            "3\n",
            "2\n",
            "1\n"
          ],
          "name": "stdout"
        }
      ]
    },
    {
      "cell_type": "markdown",
      "metadata": {
        "id": "9w84bWYR1LVo"
      },
      "source": [
        "using for loop to loop over tuples,sets and dictionaries\r\n"
      ]
    },
    {
      "cell_type": "code",
      "metadata": {
        "colab": {
          "base_uri": "https://localhost:8080/"
        },
        "id": "eMTaYMiJ1akU",
        "outputId": "27b2b95e-32c5-4394-c052-89dc0256f3f6"
      },
      "source": [
        "tup1=(28,69,\"shappu\",\"teju\")\r\n",
        "for item in tup1:\r\n",
        "  print(item)"
      ],
      "execution_count": 2,
      "outputs": [
        {
          "output_type": "stream",
          "text": [
            "28\n",
            "69\n",
            "shappu\n",
            "teju\n"
          ],
          "name": "stdout"
        }
      ]
    },
    {
      "cell_type": "markdown",
      "metadata": {
        "id": "8JB_zJxS1tqy"
      },
      "source": [
        "using for loop over sets\r\n"
      ]
    },
    {
      "cell_type": "code",
      "metadata": {
        "colab": {
          "base_uri": "https://localhost:8080/"
        },
        "id": "06TfkYbD10rc",
        "outputId": "06578f3a-3bf8-423f-b7c1-0b111eaec485"
      },
      "source": [
        "set1={1,2,3,4,5}\r\n",
        "for item in set1:\r\n",
        "  print(item)"
      ],
      "execution_count": 3,
      "outputs": [
        {
          "output_type": "stream",
          "text": [
            "1\n",
            "2\n",
            "3\n",
            "4\n",
            "5\n"
          ],
          "name": "stdout"
        }
      ]
    },
    {
      "cell_type": "code",
      "metadata": {
        "id": "K9Zc0yZ30oBV"
      },
      "source": [
        ""
      ],
      "execution_count": null,
      "outputs": []
    },
    {
      "cell_type": "markdown",
      "metadata": {
        "id": "7FtGIhaW2EXH"
      },
      "source": [
        "using for loop for dictionaries"
      ]
    },
    {
      "cell_type": "code",
      "metadata": {
        "colab": {
          "base_uri": "https://localhost:8080/"
        },
        "id": "6n7Ll4ec2NkX",
        "outputId": "39b53fd2-dce0-45b2-d034-a6c9c38bfbbc"
      },
      "source": [
        "stateandcapital= {'telangana':'Hyderabad','AndhraPradesh':'Amaravathi','karnataka':'Bangalore'}\r\n",
        "for state in stateandcapital:\r\n",
        "    print(state)"
      ],
      "execution_count": 4,
      "outputs": [
        {
          "output_type": "stream",
          "text": [
            "telangana\n",
            "AndhraPradesh\n",
            "karnataka\n"
          ],
          "name": "stdout"
        }
      ]
    },
    {
      "cell_type": "code",
      "metadata": {
        "colab": {
          "base_uri": "https://localhost:8080/"
        },
        "id": "3wGUmaIf2gcr",
        "outputId": "3a35542a-c724-4eaa-9ba3-20d7de097729"
      },
      "source": [
        "stateandcapital= {'telangana':'Hyderabad','AndhraPradesh':'Amaravathi','karnataka':'Bangalore'}\r\n",
        "for capital in stateandcapital.values():\r\n",
        "    print(capital)"
      ],
      "execution_count": 5,
      "outputs": [
        {
          "output_type": "stream",
          "text": [
            "Hyderabad\n",
            "Amaravathi\n",
            "Bangalore\n"
          ],
          "name": "stdout"
        }
      ]
    },
    {
      "cell_type": "code",
      "metadata": {
        "colab": {
          "base_uri": "https://localhost:8080/"
        },
        "id": "QilAcF0J2lVA",
        "outputId": "13dccef5-155e-4b3f-98f3-e1a849e6c017"
      },
      "source": [
        "stateandcapital= {'telangana':'Hyderabad','AndhraPradesh':'Amaravathi','karnataka':'Bangalore'}\r\n",
        "for state,capital in stateandcapital.items():\r\n",
        "    print(state, \":\", capital)"
      ],
      "execution_count": 6,
      "outputs": [
        {
          "output_type": "stream",
          "text": [
            "telangana : Hyderabad\n",
            "AndhraPradesh : Amaravathi\n",
            "karnataka : Bangalore\n"
          ],
          "name": "stdout"
        }
      ]
    }
  ]
}