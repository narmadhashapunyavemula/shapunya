{
  "nbformat": 4,
  "nbformat_minor": 0,
  "metadata": {
    "colab": {
      "name": "task11.ipynb",
      "provenance": []
    },
    "kernelspec": {
      "name": "python3",
      "display_name": "Python 3"
    }
  },
  "cells": [
    {
      "cell_type": "code",
      "metadata": {
        "id": "3tyxOE3M8IR8"
      },
      "source": [
        ""
      ],
      "execution_count": null,
      "outputs": []
    },
    {
      "cell_type": "markdown",
      "metadata": {
        "id": "S1H7liZR8Niy"
      },
      "source": [
        "A return statement is used to end the execution of the function call and returns the result to the caller. The statements after the return statements are not executed.If the return statement is without any expression,then the special value None is returned.\r\n",
        "Note: Return statement cannot be used outside the function."
      ]
    },
    {
      "cell_type": "code",
      "metadata": {
        "colab": {
          "base_uri": "https://localhost:8080/"
        },
        "id": "YP98HMw69K_2",
        "outputId": "6e370493-0a59-4977-f8d7-3b570e6ed9d1"
      },
      "source": [
        "def fun():\r\n",
        "  str = \"return statement\"\r\n",
        "  return[str]\r\n",
        "list = fun()\r\n",
        "print(list)\r\n",
        "\r\n"
      ],
      "execution_count": 7,
      "outputs": [
        {
          "output_type": "stream",
          "text": [
            "['return statement']\n"
          ],
          "name": "stdout"
        }
      ]
    },
    {
      "cell_type": "markdown",
      "metadata": {
        "id": "zur8RpmwAuQZ"
      },
      "source": [
        "task 11.2"
      ]
    },
    {
      "cell_type": "code",
      "metadata": {
        "colab": {
          "base_uri": "https://localhost:8080/"
        },
        "id": "jkIec2nHAzDj",
        "outputId": "2bbeb6aa-4549-4935-eee4-c03e3b09cfcd"
      },
      "source": [
        "def add(x, y):\r\n",
        "    return x+y\r\n",
        "def subtract(x, y):\r\n",
        "    return x-y\r\n",
        "def multiply(x, y):\r\n",
        "    return x*y\r\n",
        "def divide(x, y):\r\n",
        "    return x/y\r\n",
        "print(\"select operation\")\r\n",
        "print(\"1.Add\")\r\n",
        "print(\"2.Subtract\")\r\n",
        "print(\"3.Multiply\")\r\n",
        "print(\"4.Divide\")\r\n",
        "\r\n",
        "while True:\r\n",
        "    choice = input(\"Enter choice(1/2/3/4): \"  )\r\n",
        "    if choice in ('1','2','3','4'):\r\n",
        "        num1 = int(input(\"Enter first number: \"))\r\n",
        "        num2 = int(input(\"Enter second number: \"))\r\n",
        "    \r\n",
        "        if choice == '1':\r\n",
        "             print(num1, \"+\", num2, \"=\", add(num1, num2))\r\n",
        "        \r\n",
        "        elif choice == '2':\r\n",
        "            print(num1, \"-\", num2, \"=\", subtract(num1, num2))\r\n",
        "    \r\n",
        "        elif choice == '3':\r\n",
        "            print(num1, \"*\", num2, \"=\", multiply(num1, num2))\r\n",
        "        \r\n",
        "        elif choice == '4':\r\n",
        "            print(num1, \"/\", num2, \"=\", divide(num1, num2))\r\n",
        "        break\r\n",
        "    else:\r\n",
        "        print(\"Invalid Input\")\r\n",
        "\r\n",
        "        \r\n",
        "        "
      ],
      "execution_count": 8,
      "outputs": [
        {
          "output_type": "stream",
          "text": [
            "select operation\n",
            "1.Add\n",
            "2.Subtract\n",
            "3.Multiply\n",
            "4.Divide\n",
            "Enter choice(1/2/3/4): 3\n",
            "Enter first number: 12\n",
            "Enter second number: 3\n",
            "12 * 3 = 36\n"
          ],
          "name": "stdout"
        }
      ]
    }
  ]
}