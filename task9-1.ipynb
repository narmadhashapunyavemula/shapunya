{
 "cells": [
  {
   "cell_type": "code",
   "execution_count": 1,
   "metadata": {},
   "outputs": [
    {
     "name": "stdout",
     "output_type": "stream",
     "text": [
      "Enter your choice:n1\n",
      "Enter two numbers: \n",
      "10\n",
      "20\n",
      "Result =  30\n"
     ]
    }
   ],
   "source": [
    "choice = int(input(\"Enter your choice:n\"))\n",
    "if (choice>=1 and choice<=4):\n",
    "    print(\"Enter two numbers: \")\n",
    "    num1 = int(input())\n",
    "    num2 = int(input())\n",
    "    \n",
    "    if choice == 1:\n",
    "        res = num1 + num2\n",
    "        print(\"Result = \",res)\n",
    "    elif choice == 2:\n",
    "        res = num1 - num2\n",
    "        print(\"Result = \",res)\n",
    "    elif choice == 3:\n",
    "        res = num1 * num2\n",
    "        print(\"Result = \",res)\n",
    "    elif choice == 4:\n",
    "        res = num1 / num2\n",
    "        print(\"Result = \",res)\n",
    "        \n",
    "    elif choice == 5:\n",
    "        exit()\n",
    "else:\n",
    "    print(\"Wrong input\")\n",
    "        "
   ]
  },
  {
   "cell_type": "code",
   "execution_count": null,
   "metadata": {},
   "outputs": [],
   "source": []
  }
 ],
 "metadata": {
  "kernelspec": {
   "display_name": "Python 3",
   "language": "python",
   "name": "python3"
  },
  "language_info": {
   "codemirror_mode": {
    "name": "ipython",
    "version": 3
   },
   "file_extension": ".py",
   "mimetype": "text/x-python",
   "name": "python",
   "nbconvert_exporter": "python",
   "pygments_lexer": "ipython3",
   "version": "3.7.4"
  }
 },
 "nbformat": 4,
 "nbformat_minor": 2
}
