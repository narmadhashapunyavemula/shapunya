{
 "cells": [
  {
   "cell_type": "markdown",
   "metadata": {},
   "source": [
    "###reduce() - the reduce(fun,seq) function is used to apply a particular function passed in it's argument to all of the list elements mentioned in the sequence passed along.This function is defined in \"functools\" module."
   ]
  },
  {
   "cell_type": "code",
   "execution_count": 1,
   "metadata": {},
   "outputs": [
    {
     "name": "stdout",
     "output_type": "stream",
     "text": [
      "x= 2 y= 3\n",
      "x= 6 y= 4\n",
      "x= 24 y= 5\n",
      "factorial of 4: 120\n"
     ]
    }
   ],
   "source": [
    "import functools\n",
    "def mult(x,y):\n",
    "    print(\"x=\",x, \"y=\",y)\n",
    "    return x*y\n",
    "fact=functools.reduce(mult, range(2,6))\n",
    "print(\"factorial of 4:\",fact)"
   ]
  },
  {
   "cell_type": "markdown",
   "metadata": {},
   "source": [
    "###zip() - The purpose of zip is to map the similar inder of multiple containers so that they can be used just using as a single entity."
   ]
  },
  {
   "cell_type": "code",
   "execution_count": 2,
   "metadata": {},
   "outputs": [
    {
     "name": "stdout",
     "output_type": "stream",
     "text": [
      "[('shappu', 'India'), ('teju', 'US'), ('charan', 'US'), ('soha', 'India')]\n"
     ]
    }
   ],
   "source": [
    "names = [\"shappu\",\"teju\",\"charan\",\"soha\"]\n",
    "country = [\"India\",\"US\",\"US\",\"India\"]\n",
    "mapped=list(zip(names,country))\n",
    "print(mapped)"
   ]
  },
  {
   "cell_type": "markdown",
   "metadata": {},
   "source": [
    "###enumerate() - enumerate() method adds a counter to an iterable and returns it in a form of enumerate object."
   ]
  },
  {
   "cell_type": "code",
   "execution_count": 3,
   "metadata": {},
   "outputs": [
    {
     "name": "stdout",
     "output_type": "stream",
     "text": [
      "(0, 'eat')\n",
      "(1, 'sleep')\n",
      "(2, 'repeat')\n",
      "(3, 'panda')\n"
     ]
    }
   ],
   "source": [
    "l1 = [\"eat\",\"sleep\",\"repeat\",\"panda\"]\n",
    "for item in enumerate(l1):\n",
    "    print(item)"
   ]
  },
  {
   "cell_type": "code",
   "execution_count": null,
   "metadata": {},
   "outputs": [],
   "source": []
  }
 ],
 "metadata": {
  "kernelspec": {
   "display_name": "Python 3",
   "language": "python",
   "name": "python3"
  },
  "language_info": {
   "codemirror_mode": {
    "name": "ipython",
    "version": 3
   },
   "file_extension": ".py",
   "mimetype": "text/x-python",
   "name": "python",
   "nbconvert_exporter": "python",
   "pygments_lexer": "ipython3",
   "version": "3.7.4"
  }
 },
 "nbformat": 4,
 "nbformat_minor": 2
}
