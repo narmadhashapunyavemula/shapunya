{
  "nbformat": 4,
  "nbformat_minor": 0,
  "metadata": {
    "colab": {
      "name": "Untitled0.ipynb",
      "provenance": []
    },
    "kernelspec": {
      "name": "python3",
      "display_name": "Python 3"
    }
  },
  "cells": [
    {
      "cell_type": "code",
      "metadata": {
        "id": "KYAuyq5vMR7x"
      },
      "source": [
        ""
      ],
      "execution_count": null,
      "outputs": []
    },
    {
      "cell_type": "markdown",
      "metadata": {
        "id": "DEgqDL8YMUok"
      },
      "source": [
        ""
      ]
    },
    {
      "cell_type": "markdown",
      "metadata": {
        "id": "9pxDNK0iM4EC"
      },
      "source": [
        "The continue statement is used to skip the rest of the code inside a loop for the current iteration only.Loop does not terminate but continues on with the next iteration."
      ]
    },
    {
      "cell_type": "code",
      "metadata": {
        "colab": {
          "base_uri": "https://localhost:8080/"
        },
        "id": "urUPrjYkNyt0",
        "outputId": "b1559075-9d24-42ce-b179-a3782c517a9d"
      },
      "source": [
        "for i in range(1,10):\r\n",
        "  if i == 7:\r\n",
        "    continue\r\n",
        "  else:\r\n",
        "    print(i)"
      ],
      "execution_count": 1,
      "outputs": [
        {
          "output_type": "stream",
          "text": [
            "1\n",
            "2\n",
            "3\n",
            "4\n",
            "5\n",
            "6\n",
            "8\n",
            "9\n"
          ],
          "name": "stdout"
        }
      ]
    },
    {
      "cell_type": "code",
      "metadata": {
        "colab": {
          "base_uri": "https://localhost:8080/"
        },
        "id": "M4C0TomoOkwc",
        "outputId": "eefa7e7a-2566-4ed3-a781-e46ebf9386ff"
      },
      "source": [
        "for val in \"blue\":\r\n",
        "  if val == \"e\":\r\n",
        "    continue\r\n",
        "  print(val)"
      ],
      "execution_count": 3,
      "outputs": [
        {
          "output_type": "stream",
          "text": [
            "b\n",
            "l\n",
            "u\n"
          ],
          "name": "stdout"
        }
      ]
    },
    {
      "cell_type": "markdown",
      "metadata": {
        "id": "I78Hg06SPab_"
      },
      "source": [
        "The pass statement is a null statement.But the difference between the comment and pass is that the comment is ignored by the interpreter whereas pass is not ignored.It is generally used as a placeholder that is when user doesn't want to code.Sometimes,pass is used when the user doesn't want any code to execute.so user simply places pass there as empty code is not aowed in loops, functions,class.So using pass statement user avoids this error."
      ]
    },
    {
      "cell_type": "code",
      "metadata": {
        "id": "KJFGUpUuSxcp"
      },
      "source": [
        "n = 10\r\n",
        "for i in range(n):\r\n",
        "  pass"
      ],
      "execution_count": 4,
      "outputs": []
    },
    {
      "cell_type": "code",
      "metadata": {
        "id": "pkoI1CECUG6G"
      },
      "source": [
        "a = 10\r\n",
        "b = 20\r\n",
        "if(a<b):\r\n",
        "  pass\r\n",
        "else:\r\n",
        "  print(\"b<a\")"
      ],
      "execution_count": 5,
      "outputs": []
    },
    {
      "cell_type": "code",
      "metadata": {
        "colab": {
          "base_uri": "https://localhost:8080/"
        },
        "id": "ihh_L-b-UdEr",
        "outputId": "f6939097-8a89-4b72-9252-be2a8b723150"
      },
      "source": [
        "list1 = ['a','b','c','d']\r\n",
        "for i in list1:\r\n",
        "  if(i == 'b'):\r\n",
        "    pass\r\n",
        "  else:\r\n",
        "    print(i)"
      ],
      "execution_count": 7,
      "outputs": [
        {
          "output_type": "stream",
          "text": [
            "a\n",
            "c\n",
            "d\n"
          ],
          "name": "stdout"
        }
      ]
    },
    {
      "cell_type": "code",
      "metadata": {
        "id": "fLXaPQm5U6zm"
      },
      "source": [
        ""
      ],
      "execution_count": null,
      "outputs": []
    }
  ]
}